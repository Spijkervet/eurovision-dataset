{
 "cells": [
  {
   "cell_type": "code",
   "execution_count": 309,
   "id": "bdd2e731-2fd0-4d66-bba8-aa91a648dea2",
   "metadata": {
    "tags": []
   },
   "outputs": [],
   "source": [
    "import pandas as pd\n",
    "import torch"
   ]
  },
  {
   "cell_type": "code",
   "execution_count": null,
   "id": "b8ca67e5-ad9d-4e96-8f3c-d1b4d09ff25a",
   "metadata": {
    "tags": []
   },
   "outputs": [],
   "source": [
    "# features\n",
    "df = pd.read_csv(\"../data/eurovision_tune_plus.csv\", index_col=\"Unnamed: 0\")\n",
    "\n",
    "# fixes\n",
    "df.loc[df[\"year\"] == \"Azerbaijan_Running Scared_Ell\", \"year\"] = 2011\n",
    "\n",
    "\n",
    "df[\"year\"] = df[\"year\"].astype(int)\n",
    "df = df[(df[\"year\"] != 2020) & (df[\"year\"] != 2023)]\n",
    "\n",
    "def feature_vec(row):\n",
    "    feature_len = 512\n",
    "    features = []\n",
    "    for f in range(feature_len):\n",
    "        features.append(row[str(f)])\n",
    "    return features\n",
    "\n",
    "df[\"features\"] = df.apply(feature_vec, axis=1)"
   ]
  },
  {
   "cell_type": "code",
   "execution_count": null,
   "id": "58a167c5-793b-401d-bdee-c8f9bf859bb7",
   "metadata": {
    "tags": []
   },
   "outputs": [],
   "source": [
    "stan_contestants = pd.read_csv(\"../data/stan-contestants.csv\")\n",
    "\n",
    "merged_df = pd.merge(df, stan_contestants,  how='left', left_on=['year', 'country'], right_on = ['year','country_name'])\n",
    "print(\"Missing datapoints: {}\".format(new_df[\"stan_contestant\"].isna().sum()))\n",
    "\n",
    "merged_df = merged_df.dropna(subset=[\"stan_contestant\"])"
   ]
  },
  {
   "cell_type": "code",
   "execution_count": null,
   "id": "6d06b72d-0320-4a96-ad8c-ac546c4433bf",
   "metadata": {
    "tags": []
   },
   "outputs": [],
   "source": [
    "# draws\n",
    "draws = pd.read_csv(\"../data/contest-draws.csv\")\n",
    "draws = draws.drop([\".chain\", \".iteration\", \".draw\"], axis=1)\n",
    "draws.columns = [col.replace(\"beta_contestant[\", \"\").replace(\"]\", \"\") for col in draws.columns]\n",
    "draws = draws.T\n",
    "draws[\"stan_contestant\"] = draws.index\n",
    "draws[\"stan_contestant\"] = draws[\"stan_contestant\"].astype(int)"
   ]
  },
  {
   "cell_type": "code",
   "execution_count": null,
   "id": "31071e4e-b5bc-43b8-ae90-d60cc63eaa3c",
   "metadata": {
    "tags": []
   },
   "outputs": [],
   "source": [
    "def draws_vec(row):\n",
    "    draws = []\n",
    "    n_draws = 4000\n",
    "    for d in range(n_draws):\n",
    "        draws.append(row[d])\n",
    "    return draws\n",
    "    \n",
    "draws[\"draws\"] = draws.apply(draws_vec, axis=1)\n",
    "draws = draws[[\"draws\", \"stan_contestant\"]]\n",
    "\n",
    "merged_df = pd.merge(merged_df, draws, how=\"left\", left_on=\"stan_contestant\", right_on=\"stan_contestant\")"
   ]
  },
  {
   "cell_type": "code",
   "execution_count": null,
   "id": "95ea7586-d60a-424b-a00f-2196a07d7604",
   "metadata": {
    "tags": []
   },
   "outputs": [],
   "source": [
    "print(\"Missing datapoints: {}\".format(merged_df[\"stan_contestant\"].isna().sum()))"
   ]
  },
  {
   "cell_type": "markdown",
   "id": "9a3c9457-03b5-42c7-a115-7d3ca289c632",
   "metadata": {},
   "source": [
    "## Prepare input and targets\n",
    "\n",
    "For every input $X$ we observe multiple draws $Y$"
   ]
  },
  {
   "cell_type": "code",
   "execution_count": null,
   "id": "e536a963-5015-4502-981a-e72b3c6e9fc0",
   "metadata": {
    "tags": []
   },
   "outputs": [],
   "source": [
    "from tqdm import tqdm\n",
    "inputs = []\n",
    "targets = []\n",
    "for idx, row in tqdm(merged_df.iterrows(), total=merged_df.shape[0]):\n",
    "    for draw in row[\"draws\"]:\n",
    "        inputs.append(row[\"features\"])\n",
    "        targets.append(draw)\n"
   ]
  },
  {
   "cell_type": "code",
   "execution_count": null,
   "id": "8fc74c09-caff-4f8d-a11d-e14b9d3e91bf",
   "metadata": {
    "tags": []
   },
   "outputs": [],
   "source": [
    "# Check if the above for loop made the correct mapping\n",
    "assert inputs[0] == merged_df.iloc[0][\"features\"]\n",
    "assert targets[0] == merged_df.iloc[0][\"draws\"][0]\n",
    "assert inputs[10] == merged_df.iloc[0][\"features\"]\n",
    "assert targets[10] == merged_df.iloc[0][\"draws\"][10]\n",
    "\n",
    "assert inputs[4000] == merged_df.iloc[1][\"features\"]\n",
    "assert targets[4000] == merged_df.iloc[1][\"draws\"][0]\n",
    "assert inputs[8005] == merged_df.iloc[2][\"features\"]\n",
    "assert targets[8005] == merged_df.iloc[2][\"draws\"][5]"
   ]
  },
  {
   "cell_type": "code",
   "execution_count": 310,
   "id": "98e973b3-fec2-4629-9ef4-ff36280ce620",
   "metadata": {},
   "outputs": [
    {
     "data": {
      "text/plain": [
       "5044000"
      ]
     },
     "execution_count": 310,
     "metadata": {},
     "output_type": "execute_result"
    }
   ],
   "source": [
    "len(inputs)"
   ]
  },
  {
   "cell_type": "code",
   "execution_count": null,
   "id": "d447a734-ed07-49f5-a61f-d7bff554dea2",
   "metadata": {
    "tags": []
   },
   "outputs": [],
   "source": [
    "from torch.utils.data import TensorDataset\n",
    "inputs = torch.Tensor(inputs)\n",
    "targets = torch.Tensor(targets)\n",
    "\n",
    "dataset = TensorDataset(inputs, targets)"
   ]
  },
  {
   "cell_type": "code",
   "execution_count": 74,
   "id": "c16960e5-ee72-4147-94a2-7d67d8e85542",
   "metadata": {
    "tags": []
   },
   "outputs": [],
   "source": [
    "import torch.nn as nn\n",
    "import lightning\n",
    "\n",
    "class MLP(nn.Module):\n",
    "    \n",
    "    def __init__(self, n_classes: int):\n",
    "        \n",
    "        self.model = nn.Sequential(\n",
    "            nn.Linear(512, n_classes)\n",
    "        )\n",
    "        \n",
    "    def forward(self, x):\n",
    "        return self.model(x)"
   ]
  },
  {
   "cell_type": "code",
   "execution_count": 75,
   "id": "1dc1f48b-21be-4902-a1ab-e41961828fc0",
   "metadata": {
    "tags": []
   },
   "outputs": [
    {
     "name": "stdout",
     "output_type": "stream",
     "text": [
      "torch.Size([512]) torch.Size([])\n"
     ]
    }
   ],
   "source": [
    "for x, y in dataset:\n",
    "    print(x.shape, y.shape)\n",
    "    break"
   ]
  },
  {
   "cell_type": "code",
   "execution_count": null,
   "id": "dd526823-2375-46fc-8559-2938370b0eda",
   "metadata": {},
   "outputs": [],
   "source": []
  }
 ],
 "metadata": {
  "kernelspec": {
   "display_name": "Python 3 (ipykernel)",
   "language": "python",
   "name": "python3"
  },
  "language_info": {
   "codemirror_mode": {
    "name": "ipython",
    "version": 3
   },
   "file_extension": ".py",
   "mimetype": "text/x-python",
   "name": "python",
   "nbconvert_exporter": "python",
   "pygments_lexer": "ipython3",
   "version": "3.9.2"
  }
 },
 "nbformat": 4,
 "nbformat_minor": 5
}
